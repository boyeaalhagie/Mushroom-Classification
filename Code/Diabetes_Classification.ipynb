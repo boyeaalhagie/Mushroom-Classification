{
 "cells": [
  {
   "cell_type": "markdown",
   "metadata": {},
   "source": [
    "# Diabetes Classification using Rotation Forests  \n",
    "Authors: Daniel Fischer, Alhagie Boye, Vamsi Sudersanam"
   ]
  },
  {
   "cell_type": "markdown",
   "metadata": {},
   "source": [
    "## Introduction"
   ]
  },
  {
   "cell_type": "code",
   "execution_count": 1,
   "metadata": {},
   "outputs": [],
   "source": [
    "import numpy as np  \n",
    "from sklearn.model_selection import train_test_split\n",
    "from sktime.classification.sklearn import RotationForest \n",
    "from sklearn.metrics import accuracy_score\n"
   ]
  },
  {
   "cell_type": "code",
   "execution_count": 2,
   "metadata": {},
   "outputs": [],
   "source": [
    "# Load the data using np.loadtxt to reduce the amount of float values\n",
    "data = np.loadtxt('../Data/pima_indian_diabetes.csv', delimiter=',', skiprows=1)\n",
    "\n",
    "# Split the data into training, validation and testing sets \n",
    "# https://datascience.stackexchange.com/questions/15135/train-test-validation-set-splitting-in-sklearn \n",
    "train, validate, test = np.split(data, [int(0.6 * len(data)), int(0.8 * len(data))])\n",
    "\n",
    "# Separating the features and the target for each split\n",
    "X_train, y_train = train[:, :-1], train[:, -1]\n",
    "X_validate, y_validate = validate[:, :-1], validate[:, -1]\n",
    "X_test, y_test = test[:, :-1], test[:, -1]"
   ]
  },
  {
   "cell_type": "markdown",
   "metadata": {},
   "source": [
    "## Creating the model"
   ]
  },
  {
   "cell_type": "code",
   "execution_count": 3,
   "metadata": {},
   "outputs": [
    {
     "name": "stdout",
     "output_type": "stream",
     "text": [
      "Validation Accuracy: 0.85\n",
      "Test Accuracy: 0.76\n"
     ]
    }
   ],
   "source": [
    "\n",
    "# Rotation Forest Classifier\n",
    "rotation_forest = RotationForest(random_state=42)\n",
    "rotation_forest.fit(X_train, y_train)\n",
    "\n",
    "# Validations \n",
    "y_validate_pred = rotation_forest.predict(X_validate)\n",
    "val_accuracy = accuracy_score(y_validate, y_validate_pred)\n",
    "\n",
    "# Model Testing\n",
    "y_test_pred = rotation_forest.predict(X_test)\n",
    "test_accuracy = accuracy_score(y_test, y_test_pred)\n",
    "\n",
    "# RESULTS!!!\n",
    "print(f\"Validation Accuracy: {val_accuracy:.2f}\")\n",
    "print(f\"Test Accuracy: {test_accuracy:.2f}\")"
   ]
  },
  {
   "cell_type": "code",
   "execution_count": null,
   "metadata": {},
   "outputs": [],
   "source": []
  }
 ],
 "metadata": {
  "kernelspec": {
   "display_name": "Python 3",
   "language": "python",
   "name": "python3"
  },
  "language_info": {
   "codemirror_mode": {
    "name": "ipython",
    "version": 3
   },
   "file_extension": ".py",
   "mimetype": "text/x-python",
   "name": "python",
   "nbconvert_exporter": "python",
   "pygments_lexer": "ipython3",
   "version": "3.12.7"
  }
 },
 "nbformat": 4,
 "nbformat_minor": 2
}
