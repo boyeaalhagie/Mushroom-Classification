{
 "cells": [
  {
   "cell_type": "markdown",
   "metadata": {},
   "source": [
    "# Mushroom Classification using Rotation Forests  \n",
    "Authors: Daniel Fischer, Alhagie Boye, Vamsi Sundersanam"
   ]
  },
  {
   "cell_type": "markdown",
   "metadata": {},
   "source": [
    "## Introduction"
   ]
  },
  {
   "cell_type": "code",
   "execution_count": 1,
   "metadata": {},
   "outputs": [],
   "source": [
    "# Import librarays needed for project\n",
    "import numpy as np  # IEEE implementation of Rotation Forest\n",
    "from sklearn.model_selection import train_test_split"
   ]
  },
  {
   "cell_type": "code",
   "execution_count": 2,
   "metadata": {},
   "outputs": [],
   "source": [
    "# Load the data using np.loadtxt to reduce the amount of float values\n",
    "data = np.loadtxt('../Data/mushroom_cleaned.csv', delimiter=',', skiprows=1)\n",
    "headers = np.loadtxt('../Data/mushroom_cleaned.csv', delimiter=',', max_rows=1, dtype=str)\n",
    "\n",
    "# Split the data into training, validation and testing sets \n",
    "# https://datascience.stackexchange.com/questions/15135/train-test-validation-set-splitting-in-sklearn \n",
    "train, validate, test = np.split(data, [int(.6*len(data)), int(.8*len(data))])\n",
    "\n",
    "# Assuming the 'class' column is the first column in the original data\n",
    "class_index = list(headers).index('class')\n",
    "\n",
    "\n",
    "X_train = np.delete(train, class_index, axis=1)  # Feature Matrix\n",
    "y_train = train[:, class_index]  # Target Variable\n",
    "\n",
    "X_val = np.delete(validate, class_index, axis=1)  # Feature Matrix\n",
    "y_val = validate[:, class_index]  # Target Variable\n",
    "\n",
    "X_test = np.delete(test, class_index, axis=1)  # Feature Matrix\n",
    "y_test = test[:, class_index]  # Target Variable"
   ]
  },
  {
   "cell_type": "markdown",
   "metadata": {},
   "source": [
    "## Creating the model"
   ]
  },
  {
   "cell_type": "code",
   "execution_count": 3,
   "metadata": {},
   "outputs": [
    {
     "name": "stdout",
     "output_type": "stream",
     "text": [
      "Accuracy:  0.5144813546775239\n"
     ]
    }
   ],
   "source": [
    "from sktime.classification.sklearn import RotationForest # From Sktiime pip install -sktime\n",
    "\n",
    "# Create an instance of the Rotation Forest classifier\n",
    "clf = RotationForest(n_estimators=50, random_state=42)\n",
    "clf.fit(X_train, y_train)\n",
    "y_pred = clf.predict(X_val)\n",
    "\n",
    "# Evaluate the classifier\n",
    "from sklearn.metrics import accuracy_score\n",
    "print(\"Accuracy: \", accuracy_score(y_val, y_pred))"
   ]
  }
 ],
 "metadata": {
  "kernelspec": {
   "display_name": "Python 3",
   "language": "python",
   "name": "python3"
  },
  "language_info": {
   "codemirror_mode": {
    "name": "ipython",
    "version": 3
   },
   "file_extension": ".py",
   "mimetype": "text/x-python",
   "name": "python",
   "nbconvert_exporter": "python",
   "pygments_lexer": "ipython3",
   "version": "3.11.4"
  }
 },
 "nbformat": 4,
 "nbformat_minor": 2
}
